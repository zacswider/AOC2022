{
 "cells": [
  {
   "cell_type": "markdown",
   "metadata": {},
   "source": [
    "### Part one"
   ]
  },
  {
   "cell_type": "code",
   "execution_count": null,
   "metadata": {},
   "outputs": [],
   "source": [
    "with open('day3_input.txt') as f:\n",
    "    rucksacks = [l.rstrip() for l in f]\n",
    "\n",
    "def split_rucksack(rucksack: str):\n",
    "    # split rucksack into front and back halves\n",
    "    num_items = len(rucksack)\n",
    "    half = num_items // 2\n",
    "    front = rucksack[:half]\n",
    "    back = rucksack[half:]\n",
    "    assert len(front) == len(back)\n",
    "    return front, back\n",
    "\n",
    "def all_items_match(items: list):\n",
    "    # make sure all items in a list are the same\n",
    "    return all([\n",
    "        item1 == item2\n",
    "        for item1 in items\n",
    "        for item2 in items\n",
    "    ])\n",
    "\n",
    "def count_matches(front: str, back: str):\n",
    "    # get all matches between front and back\n",
    "    matches =  [\n",
    "        f for f in front \n",
    "        for b in back \n",
    "        if f == b\n",
    "    ]\n",
    "    assert all_items_match(matches)\n",
    "    return matches[0]\n",
    "\n",
    "def get_score(match: str):\n",
    "    # get priority score for an item\n",
    "    alphabet = 'abcdefghijklmnopqrstuvwxyz'\n",
    "    ind = alphabet.index(match.lower())\n",
    "    if match.islower():\n",
    "        return ind + 1\n",
    "    else:\n",
    "        return ind + 1 + 26\n",
    "\n",
    "def get_score_for_rucksack(rucksack: str):\n",
    "    front, back = split_rucksack(rucksack)\n",
    "    matches = count_matches(front, back)\n",
    "    return get_score(matches)\n",
    "\n",
    "all_scores = sum(list(map(get_score_for_rucksack, rucksacks)))\n",
    "print(all_scores)"
   ]
  },
  {
   "cell_type": "markdown",
   "metadata": {},
   "source": [
    "### Part two"
   ]
  },
  {
   "cell_type": "code",
   "execution_count": null,
   "metadata": {},
   "outputs": [],
   "source": [
    "def split_group_of_three(all_rucksacks: list):\n",
    "    groups = [\n",
    "        all_rucksacks[i:i+3]\n",
    "        for i in range(0, len(all_rucksacks), 3)\n",
    "    ]\n",
    "    return groups\n",
    "\n",
    "def find_badge(group: list):\n",
    "    # find the only item that appears in all three rucksacks\n",
    "    badges = [\n",
    "        item for item in group[0]\n",
    "        if item in group[1] and item in group[2]\n",
    "    ]\n",
    "    assert all_items_match(badges)\n",
    "    return badges[0]\n",
    "\n",
    "def score_all_badges(all_rucksacks: list):\n",
    "    groups = split_group_of_three(all_rucksacks)\n",
    "    badges = list(map(find_badge, groups))\n",
    "    return sum(list(map(get_score, badges)))\n",
    "\n",
    "print(score_all_badges(rucksacks))"
   ]
  },
  {
   "cell_type": "code",
   "execution_count": null,
   "metadata": {},
   "outputs": [],
   "source": []
  }
 ],
 "metadata": {
  "kernelspec": {
   "display_name": "Python 3.7.12 ('embedsegenv')",
   "language": "python",
   "name": "python3"
  },
  "language_info": {
   "codemirror_mode": {
    "name": "ipython",
    "version": 3
   },
   "file_extension": ".py",
   "mimetype": "text/x-python",
   "name": "python",
   "nbconvert_exporter": "python",
   "pygments_lexer": "ipython3",
   "version": "3.7.12"
  },
  "orig_nbformat": 4,
  "vscode": {
   "interpreter": {
    "hash": "8c41f1c13b60b7b709d10314a8648adc5c32a02f7430020a2f9ceae5d82ca737"
   }
  }
 },
 "nbformat": 4,
 "nbformat_minor": 2
}
