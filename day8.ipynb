{
 "cells": [
  {
   "cell_type": "markdown",
   "metadata": {},
   "source": [
    "# test isn't working"
   ]
  },
  {
   "cell_type": "code",
   "execution_count": 13,
   "metadata": {},
   "outputs": [
    {
     "name": "stdout",
     "output_type": "stream",
     "text": [
      "29\n"
     ]
    }
   ],
   "source": [
    "with open('day8.txt', 'r') as f:\n",
    "    trees = [l.rstrip() for l in f.readlines()]\n",
    "\n",
    "def get_trees_above(trees: list, row_num: int, tree_num: int) -> list:\n",
    "    \"\"\"Return a list of trees in the column between the current tree and the top of the forest\"\"\"\n",
    "    trees_above = []\n",
    "    for row in trees[:row_num]:\n",
    "        trees_above.append(row[tree_num])\n",
    "    return trees_above\n",
    "\n",
    "def get_trees_below(trees: list, row_num: int, tree_num: int) -> list:\n",
    "    \"\"\"Return a list of trees in the column between the current tree and the bottom of the forest\"\"\"\n",
    "    trees_below = []\n",
    "    for row in trees[row_num:]:\n",
    "        trees_below.append(row[tree_num])\n",
    "    return trees_below\n",
    "\n",
    "visible = []\n",
    "\n",
    "def look_above_and_below(trees: list) -> None:\n",
    "    num_rows = len(trees)\n",
    "    for row_num, row in enumerate(trees):\n",
    "        for tree_num, tree in enumerate(row):\n",
    "\n",
    "            # trees on the edges are visible\n",
    "            if row_num == 0:\n",
    "                visible.append(tree)\n",
    "                continue\n",
    "            if row_num == num_rows - 1:\n",
    "                visible.append(tree)\n",
    "                continue\n",
    "\n",
    "            # if tree is not on the edge, generate a list of trees in the column above\n",
    "            trees_above = get_trees_above(trees, row_num, tree_num)\n",
    "            if all([\n",
    "                tree > tree_above\n",
    "                for tree_above in trees_above\n",
    "            ]):\n",
    "                visible.append(tree)\n",
    "                continue\n",
    "            \n",
    "            # and in the column below\n",
    "            trees_below = get_trees_below(trees, row_num, tree_num)\n",
    "            if all([\n",
    "                tree > tree_below\n",
    "                for tree_below in trees_below\n",
    "            ]):\n",
    "                visible.append(tree)\n",
    "                continue\n",
    "\n",
    "test = [[3,0,3,7,3],\n",
    "        [2,5,5,1,2],\n",
    "        [6,5,3,3,2],\n",
    "        [3,3,5,4,9],\n",
    "        [3,5,3,9,0]]\n",
    "\n",
    "look_above_and_below(test)\n",
    "look_above_and_below(list(zip(*test)))\n",
    "print(len(visible))                    # 1367 is too low\n"
   ]
  },
  {
   "cell_type": "code",
   "execution_count": null,
   "metadata": {},
   "outputs": [],
   "source": []
  }
 ],
 "metadata": {
  "kernelspec": {
   "display_name": "Python 3.7.12 ('embedsegenv')",
   "language": "python",
   "name": "python3"
  },
  "language_info": {
   "codemirror_mode": {
    "name": "ipython",
    "version": 3
   },
   "file_extension": ".py",
   "mimetype": "text/x-python",
   "name": "python",
   "nbconvert_exporter": "python",
   "pygments_lexer": "ipython3",
   "version": "3.7.12"
  },
  "orig_nbformat": 4,
  "vscode": {
   "interpreter": {
    "hash": "8c41f1c13b60b7b709d10314a8648adc5c32a02f7430020a2f9ceae5d82ca737"
   }
  }
 },
 "nbformat": 4,
 "nbformat_minor": 2
}
