{
 "cells": [
  {
   "cell_type": "code",
   "execution_count": 3,
   "metadata": {},
   "outputs": [
    {
     "name": "stdout",
     "output_type": "stream",
     "text": [
      "$ cd / True\n",
      "$ ls True\n",
      "dir fchrtcbh False\n",
      "dir hlnbrj False\n",
      "dir jbt False\n",
      "dir nnn False\n",
      "57400 pfqcbp False\n",
      "dir qsdv False\n",
      "dir tdl False\n",
      "dir tmcpgtz False\n"
     ]
    }
   ],
   "source": [
    "with open('day7.txt', 'r') as f:\n",
    "    prompts = [l.rstrip() for l in f.readlines()]\n",
    "\n",
    "class Directory:\n",
    "    def __init__(self, name, )\n",
    "\n",
    "def if_command(s: str) -> bool:\n",
    "    return s.startswith('$')\n",
    "\n",
    "for prompt in prompts[:10]:\n",
    "    print(prompt, if_command(prompt))\n"
   ]
  },
  {
   "cell_type": "code",
   "execution_count": null,
   "metadata": {},
   "outputs": [],
   "source": []
  }
 ],
 "metadata": {
  "kernelspec": {
   "display_name": "Python 3.7.12 ('embedsegenv')",
   "language": "python",
   "name": "python3"
  },
  "language_info": {
   "codemirror_mode": {
    "name": "ipython",
    "version": 3
   },
   "file_extension": ".py",
   "mimetype": "text/x-python",
   "name": "python",
   "nbconvert_exporter": "python",
   "pygments_lexer": "ipython3",
   "version": "3.7.12"
  },
  "orig_nbformat": 4,
  "vscode": {
   "interpreter": {
    "hash": "8c41f1c13b60b7b709d10314a8648adc5c32a02f7430020a2f9ceae5d82ca737"
   }
  }
 },
 "nbformat": 4,
 "nbformat_minor": 2
}
