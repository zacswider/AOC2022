{
 "cells": [
  {
   "cell_type": "code",
   "execution_count": 11,
   "metadata": {},
   "outputs": [
    {
     "name": "stdout",
     "output_type": "stream",
     "text": [
      "657 elves have fully overlapping sections\n",
      "938 elves have partially or totally overlapping sections\n"
     ]
    }
   ],
   "source": [
    "with open('day4.txt', 'r') as f:\n",
    "    sections = [l.rstrip().split(',') for l in f.readlines()]\n",
    "\n",
    "sections = [\n",
    "    [sect.split('-') for sect in line]\n",
    "    for line in sections\n",
    "]\n",
    "\n",
    "def extract_start_end_vals(pair: list) -> tuple:\n",
    "    pair1, pair2 = pair\n",
    "    pair1_start, pair1_end = int(pair1[0]), int(pair1[1])\n",
    "    pair2_start, pair2_end = int(pair2[0]), int(pair2[1])\n",
    "    return pair1_start, pair1_end, pair2_start, pair2_end\n",
    "\n",
    "def check_full_overlap(pair: list) -> int:\n",
    "    \"\"\"Each pair is a list of lists. Check whether the range described by\n",
    "    one of the pairs is fully contained within the range described by the\n",
    "    other pair. Return 1 if so, 0 otherwise.\n",
    "    \"\"\"\n",
    "    pair1_start, pair1_end, pair2_start, pair2_end = extract_start_end_vals(pair)\n",
    "    if any([\n",
    "        pair1_start <= pair2_start and pair1_end >= pair2_end,\n",
    "        pair2_start <= pair1_start and pair2_end >= pair1_end\n",
    "    ]):\n",
    "        return 1\n",
    "    else:\n",
    "        return 0\n",
    "    \n",
    "def check_partial_and_total_overlap(pair: list) -> int:\n",
    "    \"\"\"Each pair is a list of lists. Check whether the range described by\n",
    "    one of the pairs is partially contained within the range described by\n",
    "    the other pair. Return 1 if so, 0 otherwise.\n",
    "    \"\"\"\n",
    "    pair1_start, pair1_end, pair2_start, pair2_end = extract_start_end_vals(pair)\n",
    "    if any([\n",
    "        # gross, there's definitely a better way to do this, although the logic is very fast\n",
    "        pair1_start <= pair2_start and pair1_end >= pair2_end,\n",
    "        pair2_start <= pair1_start and pair2_end >= pair1_end,\n",
    "        pair1_start <= pair2_start and pair1_end >= pair2_start and pair1_end <= pair2_end,\n",
    "        pair2_start <= pair1_start and pair2_end >= pair1_start and pair2_end <= pair1_end,\n",
    "        pair1_start >= pair2_start and pair1_start <= pair2_end and pair1_end >= pair2_end,\n",
    "        pair2_start >= pair1_start and pair2_start <= pair1_end and pair2_end >= pair1_end\n",
    "    ]):\n",
    "        return 1\n",
    "    else:\n",
    "        return 0\n",
    "\n",
    "full_overlaps = list(map(check_full_overlap, sections))\n",
    "print(f'{sum(full_overlaps)} elves have fully overlapping sections')\n",
    "\n",
    "partial_overlaps = list(map(check_partial_and_total_overlap, sections))\n",
    "print(f'{sum(partial_overlaps)} elves have partially or totally overlapping sections')\n"
   ]
  },
  {
   "cell_type": "code",
   "execution_count": null,
   "metadata": {},
   "outputs": [],
   "source": []
  }
 ],
 "metadata": {
  "kernelspec": {
   "display_name": "Python 3.7.12 ('embedsegenv')",
   "language": "python",
   "name": "python3"
  },
  "language_info": {
   "codemirror_mode": {
    "name": "ipython",
    "version": 3
   },
   "file_extension": ".py",
   "mimetype": "text/x-python",
   "name": "python",
   "nbconvert_exporter": "python",
   "pygments_lexer": "ipython3",
   "version": "3.7.12"
  },
  "orig_nbformat": 4,
  "vscode": {
   "interpreter": {
    "hash": "8c41f1c13b60b7b709d10314a8648adc5c32a02f7430020a2f9ceae5d82ca737"
   }
  }
 },
 "nbformat": 4,
 "nbformat_minor": 2
}
