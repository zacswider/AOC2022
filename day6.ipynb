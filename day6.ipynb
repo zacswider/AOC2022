{
 "cells": [
  {
   "cell_type": "code",
   "execution_count": 1,
   "metadata": {},
   "outputs": [],
   "source": [
    "with open('day6.txt', 'r') as f:\n",
    "    buffer = [l.rstrip() for l in f.readlines()][0]"
   ]
  },
  {
   "cell_type": "code",
   "execution_count": 2,
   "metadata": {},
   "outputs": [],
   "source": [
    "def check_unique(s: str) -> bool:\n",
    "    for pos, let in enumerate(s):\n",
    "        remaining_string = s[:pos] + s[pos+1:]\n",
    "        if let in remaining_string:\n",
    "            return False\n",
    "    return True\n",
    "\n",
    "def assign_next_sequence(bucket: str, bigstring: str) -> str:\n",
    "    \"\"\"Bucket is a 4-letter string. Remove the first letter from both bucket\n",
    "    and bigstring, and then add the first letter of bigstring to bucket.\n",
    "    \"\"\"\n",
    "    bucket = bucket[1:] + bigstring[0]\n",
    "    bigstring = bigstring[1:]\n",
    "    return bucket, bigstring\n",
    "\n",
    "def look_for_marker(min_length: int, buffer: str) -> None:\n",
    "    bucket = buffer[:min_length]\n",
    "    bigstring = buffer[min_length:]\n",
    "    \n",
    "    if check_unique(bucket):\n",
    "        print(f'the answer is {min_length}')\n",
    "    unique = False\n",
    "\n",
    "    while not unique:\n",
    "        bucket, bigstring = assign_next_sequence(bucket, bigstring)\n",
    "        min_length += 1\n",
    "        unique = check_unique(bucket)\n",
    "\n",
    "    print(f'the answer is {min_length}')"
   ]
  },
  {
   "cell_type": "markdown",
   "metadata": {},
   "source": [
    "### Part 1"
   ]
  },
  {
   "cell_type": "code",
   "execution_count": 3,
   "metadata": {},
   "outputs": [
    {
     "name": "stdout",
     "output_type": "stream",
     "text": [
      "the answer is 1876\n"
     ]
    }
   ],
   "source": [
    "look_for_marker(min_length=4, buffer=buffer)"
   ]
  },
  {
   "cell_type": "markdown",
   "metadata": {},
   "source": [
    "### Part 2"
   ]
  },
  {
   "cell_type": "code",
   "execution_count": 4,
   "metadata": {},
   "outputs": [
    {
     "name": "stdout",
     "output_type": "stream",
     "text": [
      "the answer is 2202\n"
     ]
    }
   ],
   "source": [
    "look_for_marker(min_length=14, buffer=buffer)"
   ]
  }
 ],
 "metadata": {
  "kernelspec": {
   "display_name": "Python 3.7.12 ('embedsegenv')",
   "language": "python",
   "name": "python3"
  },
  "language_info": {
   "codemirror_mode": {
    "name": "ipython",
    "version": 3
   },
   "file_extension": ".py",
   "mimetype": "text/x-python",
   "name": "python",
   "nbconvert_exporter": "python",
   "pygments_lexer": "ipython3",
   "version": "3.7.12"
  },
  "orig_nbformat": 4,
  "vscode": {
   "interpreter": {
    "hash": "8c41f1c13b60b7b709d10314a8648adc5c32a02f7430020a2f9ceae5d82ca737"
   }
  }
 },
 "nbformat": 4,
 "nbformat_minor": 2
}
