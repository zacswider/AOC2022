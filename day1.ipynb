{
 "cells": [
  {
   "cell_type": "markdown",
   "metadata": {},
   "source": [
    "### Part one"
   ]
  },
  {
   "cell_type": "code",
   "execution_count": null,
   "metadata": {},
   "outputs": [],
   "source": [
    "with open('day1_input.txt') as f:\n",
    "    input = [l.rstrip() for l in f.readlines()]\n",
    "\n",
    "alphabet = 'abcdefghijklmnopqrstuvwxyz'\n",
    "tlcs = [a + b + c for a in alphabet for b in alphabet for c in alphabet]\n",
    "\n",
    "elves = {}\n",
    "tlc_index = 0\n",
    "for line in input:\n",
    "    alias = tlcs[tlc_index]\n",
    "    if len(line) > 0:\n",
    "        elves.setdefault(alias, []).append(int(line))\n",
    "    else:\n",
    "        tlc_index += 1\n",
    "\n",
    "summed_cals = {\n",
    "    alias: sum(calories)\n",
    "    for alias, calories in elves.items()\n",
    "}\n",
    "\n",
    "most_cals = max(summed_cals.values())\n",
    "elf_index = list(summed_cals.values()).index(most_cals)\n",
    "answer = list(summed_cals.keys())[elf_index]\n",
    "print(f'The elf packing the most calories is {answer} with {most_cals} calories')\n",
    "    "
   ]
  },
  {
   "cell_type": "code",
   "execution_count": null,
   "metadata": {},
   "outputs": [],
   "source": [
    "calories_sorted = sorted(summed_cals.values(), reverse=True)\n",
    "top_three = calories_sorted[:3]\n",
    "answer = sum(top_three)\n",
    "print(f'The top three elves have {answer} calories')"
   ]
  }
 ],
 "metadata": {
  "kernelspec": {
   "display_name": "Python 3.7.12 ('embedsegenv')",
   "language": "python",
   "name": "python3"
  },
  "language_info": {
   "codemirror_mode": {
    "name": "ipython",
    "version": 3
   },
   "file_extension": ".py",
   "mimetype": "text/x-python",
   "name": "python",
   "nbconvert_exporter": "python",
   "pygments_lexer": "ipython3",
   "version": "3.7.12"
  },
  "orig_nbformat": 4,
  "vscode": {
   "interpreter": {
    "hash": "8c41f1c13b60b7b709d10314a8648adc5c32a02f7430020a2f9ceae5d82ca737"
   }
  }
 },
 "nbformat": 4,
 "nbformat_minor": 2
}
