{
 "cells": [
  {
   "cell_type": "markdown",
   "metadata": {},
   "source": [
    "### Part one"
   ]
  },
  {
   "cell_type": "code",
   "execution_count": null,
   "metadata": {},
   "outputs": [],
   "source": [
    "with open('day2_input.txt', 'r') as f:\n",
    "    data = [l.rstrip().split(' ') for l in f]\n",
    "\n",
    "op_map = {\n",
    "    'A': 'Rock',\n",
    "    'B': 'Paper',\n",
    "    'C': 'Scissors'\n",
    "}\n",
    "my_map = {\n",
    "    'X': 'Rock',\n",
    "    'Y': 'Paper',\n",
    "    'Z': 'Scissors' \n",
    "}\n",
    "\n",
    "shape_score = {\n",
    "    'Rock': 1,\n",
    "    'Paper': 2,\n",
    "    'Scissors': 3\n",
    "}\n",
    "\n",
    "def win_loss_draw(op, my):\n",
    "    op_hand = op_map[op]\n",
    "    my_hand = my_map[my]\n",
    "\n",
    "    if op_hand == my_hand:\n",
    "        return 3\n",
    "    # scenarios where I win\n",
    "    elif any([\n",
    "        op_hand == 'Rock' and my_hand == 'Paper',\n",
    "        op_hand == 'Paper' and my_hand == 'Scissors',\n",
    "        op_hand == 'Scissors' and my_hand == 'Rock'\n",
    "    ]):\n",
    "        return 6\n",
    "    # scenarios where I lose\n",
    "    else:\n",
    "        return 0\n",
    "    \n",
    "def calc_score(round: list):\n",
    "    opp, me = round\n",
    "    outcome = win_loss_draw(opp, me)\n",
    "    my_shape_score = shape_score[my_map[me]]\n",
    "    return outcome + my_shape_score\n",
    "\n",
    "scores = list(map(calc_score, data))\n",
    "print(f'answer: {sum(scores)}')    "
   ]
  },
  {
   "cell_type": "markdown",
   "metadata": {},
   "source": [
    "### Part two"
   ]
  },
  {
   "cell_type": "code",
   "execution_count": null,
   "metadata": {},
   "outputs": [],
   "source": [
    "\n",
    "play_map = {\n",
    "    'X': 'Lose',\n",
    "    'Y': 'Draw',\n",
    "    'Z': 'Win'\n",
    "}\n",
    "\n",
    "lose_plays = {\n",
    "    'Rock': 'Scissors',\n",
    "    'Paper': 'Rock',\n",
    "    'Scissors': 'Paper'\n",
    "}\n",
    "win_plays = {\n",
    "    'Rock': 'Paper',\n",
    "    'Paper': 'Scissors',\n",
    "    'Scissors': 'Rock'\n",
    "}\n",
    "reverse_map = {\n",
    "    'Rock': 'X',\n",
    "    'Paper': 'Y',\n",
    "    'Scissors': 'Z'\n",
    "}\n",
    "\n",
    "def return_play(op, outcome):\n",
    "    if outcome == 'Lose':\n",
    "        return lose_plays[op_map[op]]\n",
    "    elif outcome == 'Draw':\n",
    "        return op_map[op]\n",
    "    else:\n",
    "        return win_plays[op_map[op]]\n",
    "\n",
    "new_plays = [[op, reverse_map[return_play(op, play_map[me])]] for op, me in data]\n",
    "scores = list(map(calc_score, new_plays))\n",
    "print(f'answer: {sum(scores)}')    \n"
   ]
  },
  {
   "cell_type": "code",
   "execution_count": null,
   "metadata": {},
   "outputs": [],
   "source": []
  }
 ],
 "metadata": {
  "kernelspec": {
   "display_name": "Python 3.7.12 ('embedsegenv')",
   "language": "python",
   "name": "python3"
  },
  "language_info": {
   "codemirror_mode": {
    "name": "ipython",
    "version": 3
   },
   "file_extension": ".py",
   "mimetype": "text/x-python",
   "name": "python",
   "nbconvert_exporter": "python",
   "pygments_lexer": "ipython3",
   "version": "3.7.12"
  },
  "orig_nbformat": 4,
  "vscode": {
   "interpreter": {
    "hash": "8c41f1c13b60b7b709d10314a8648adc5c32a02f7430020a2f9ceae5d82ca737"
   }
  }
 },
 "nbformat": 4,
 "nbformat_minor": 2
}
