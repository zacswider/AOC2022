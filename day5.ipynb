{
 "cells": [
  {
   "cell_type": "code",
   "execution_count": 1,
   "metadata": {},
   "outputs": [],
   "source": [
    "with open('day5.txt', 'r') as f:\n",
    "    my_input = [l.rstrip() for l in f.readlines()]\n",
    "\n",
    "stacks_raw = my_input[:9]\n",
    "movements = my_input[10:]"
   ]
  },
  {
   "cell_type": "code",
   "execution_count": 2,
   "metadata": {},
   "outputs": [
    {
     "data": {
      "text/plain": [
       "['move 1 from 8 to 7',\n",
       " 'move 1 from 2 to 7',\n",
       " 'move 6 from 9 to 8',\n",
       " 'move 1 from 9 to 1',\n",
       " 'move 1 from 9 to 1']"
      ]
     },
     "execution_count": 2,
     "metadata": {},
     "output_type": "execute_result"
    }
   ],
   "source": [
    "movements[:5]"
   ]
  },
  {
   "cell_type": "code",
   "execution_count": 3,
   "metadata": {},
   "outputs": [
    {
     "data": {
      "text/plain": [
       "['        [M]     [B]             [N]',\n",
       " '[T]     [H]     [V] [Q]         [H]',\n",
       " '[Q]     [N]     [H] [W] [T]     [Q]',\n",
       " '[V]     [P] [F] [Q] [P] [C]     [R]',\n",
       " '[C]     [D] [T] [N] [N] [L] [S] [J]',\n",
       " '[D] [V] [W] [R] [M] [G] [R] [N] [D]',\n",
       " '[S] [F] [Q] [Q] [F] [F] [F] [Z] [S]',\n",
       " '[N] [M] [F] [D] [R] [C] [W] [T] [M]',\n",
       " ' 1   2   3   4   5   6   7   8   9']"
      ]
     },
     "execution_count": 3,
     "metadata": {},
     "output_type": "execute_result"
    }
   ],
   "source": [
    "stacks_raw"
   ]
  },
  {
   "cell_type": "code",
   "execution_count": 4,
   "metadata": {},
   "outputs": [
    {
     "name": "stdout",
     "output_type": "stream",
     "text": [
      "[1, 5, 9, 13, 17, 21, 25, 29, 33]\n",
      "[1, 5, 9, 13, 17, 21, 25, 29, 33]\n"
     ]
    }
   ],
   "source": [
    "full_line = stacks_raw[-2]\n",
    "container_line = stacks_raw[-1]\n",
    "letter_indices = [\n",
    "    ind for ind, l \n",
    "    in enumerate(full_line)\n",
    "    if l.isalpha()\n",
    "]\n",
    "key_indices = [\n",
    "    ind for ind, l\n",
    "    in enumerate(container_line)\n",
    "    if l.isalnum()\n",
    "]\n",
    "print(letter_indices)\n",
    "print(key_indices)"
   ]
  },
  {
   "cell_type": "code",
   "execution_count": 5,
   "metadata": {},
   "outputs": [
    {
     "name": "stdout",
     "output_type": "stream",
     "text": [
      "1 ['T', 'Q', 'V', 'C', 'D', 'S', 'N']\n",
      "2 ['V', 'F', 'M']\n",
      "3 ['M', 'H', 'N', 'P', 'D', 'W', 'Q', 'F']\n",
      "4 ['F', 'T', 'R', 'Q', 'D']\n",
      "5 ['B', 'V', 'H', 'Q', 'N', 'M', 'F', 'R']\n",
      "6 ['Q', 'W', 'P', 'N', 'G', 'F', 'C']\n",
      "7 ['T', 'C', 'L', 'R', 'F', 'W']\n",
      "8 ['S', 'N', 'Z', 'T']\n",
      "9 ['N', 'H', 'Q', 'R', 'J', 'D', 'S', 'M']\n"
     ]
    }
   ],
   "source": [
    "stacks = {\n",
    "    container_line[key_index]: [\n",
    "        row[key_index]\n",
    "        for row in stacks_raw[:-1]\n",
    "        if row[key_index].isalpha()\n",
    "    ]\n",
    "    for key_index in key_indices\n",
    "}\n",
    "for k, v in stacks.items():\n",
    "    print(k, v)"
   ]
  },
  {
   "cell_type": "code",
   "execution_count": null,
   "metadata": {},
   "outputs": [],
   "source": []
  }
 ],
 "metadata": {
  "kernelspec": {
   "display_name": "Python 3.9.13 ('images')",
   "language": "python",
   "name": "python3"
  },
  "language_info": {
   "codemirror_mode": {
    "name": "ipython",
    "version": 3
   },
   "file_extension": ".py",
   "mimetype": "text/x-python",
   "name": "python",
   "nbconvert_exporter": "python",
   "pygments_lexer": "ipython3",
   "version": "3.9.13"
  },
  "orig_nbformat": 4,
  "vscode": {
   "interpreter": {
    "hash": "c94c4fe106dc2608927bded69ee86ee77b9042b0eab57363bc5b8a2fc498aab4"
   }
  }
 },
 "nbformat": 4,
 "nbformat_minor": 2
}
