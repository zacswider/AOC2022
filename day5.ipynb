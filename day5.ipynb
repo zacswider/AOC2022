{
 "cells": [
  {
   "cell_type": "code",
   "execution_count": null,
   "metadata": {},
   "outputs": [],
   "source": [
    "test_stacks = {\n",
    "    '1':['N','Z'],\n",
    "    '2':['D','C','M'],\n",
    "    '3':['P']\n",
    "}\n",
    "\n",
    "test_dirs = [\n",
    "    'move 1 from 2 to 1',\n",
    "    'move 3 from 1 to 3',\n",
    "    'move 2 from 2 to 1',\n",
    "    'move 1 from 1 to 2'\n",
    "]\n",
    "\n",
    "def move_crate(stacks: dict, move_from: str, move_to: str, num_moves: int) -> dict:\n",
    "    \"\"\"Moves a crate from one stack to another\"\"\"\n",
    "    for _ in range(num_moves):\n",
    "        val = stacks[move_from].pop(0)\n",
    "        stacks[move_to].insert(0, val)\n",
    "    return stacks\n",
    "\n",
    "def move_crates_2(stacks: dict, move_from: str, move_to: str, num_crates: int) -> dict:\n",
    "    \"\"\"Moves crates from one stack to another, but multiple crates at once so their order is preserved\"\"\"\n",
    "    crates = stacks[move_from][:num_crates]\n",
    "    stacks[move_from] = stacks[move_from][num_crates:]\n",
    "    stacks[move_to] = crates + stacks[move_to]\n",
    "    return stacks\n",
    "    \n",
    "def move_containers(starting_setup: dict, directions: list) -> dict:\n",
    "    \"\"\"Moves containers according to the directions\"\"\"\n",
    "    for direction in directions:\n",
    "        splitted = direction.split(' ')\n",
    "        num_moves = splitted[1]\n",
    "        move_from = splitted[3]\n",
    "        move_to = splitted[5]\n",
    "        starting_setup = move_crates_2(starting_setup, move_from, move_to, int(num_moves))\n",
    "    return starting_setup\n",
    "\n",
    "move_containers(test_stacks, test_dirs)\n",
    "\n",
    "for k, v in test_stacks.items():\n",
    "    print(k,v)"
   ]
  },
  {
   "cell_type": "code",
   "execution_count": null,
   "metadata": {},
   "outputs": [],
   "source": [
    "with open('day5.txt', 'r') as f:\n",
    "    my_input = [l.rstrip() for l in f.readlines()]\n",
    "\n",
    "stacks_raw = my_input[:9]\n",
    "movements = my_input[10:]\n",
    "\n",
    "full_line = stacks_raw[-2]\n",
    "container_line = stacks_raw[-1]\n",
    "letter_indices = [\n",
    "    ind for ind, l \n",
    "    in enumerate(full_line)\n",
    "    if l.isalpha()\n",
    "]\n",
    "key_indices = [\n",
    "    ind for ind, l\n",
    "    in enumerate(container_line)\n",
    "    if l.isalnum()\n",
    "]\n",
    "\n",
    "stacks = {\n",
    "    str(container_line[key_index]): [\n",
    "        row[key_index]\n",
    "        for row in stacks_raw[:-1]\n",
    "        if row[key_index].isalpha()\n",
    "    ]\n",
    "    for key_index in key_indices\n",
    "}\n",
    "\n",
    "move_containers(stacks, movements)\n",
    "\n",
    "for k, v in stacks.items():\n",
    "    print(k, v)"
   ]
  },
  {
   "cell_type": "code",
   "execution_count": null,
   "metadata": {},
   "outputs": [],
   "source": [
    "letters = []\n",
    "for v in stacks.values():\n",
    "    try:\n",
    "        letters.append((v[0]))\n",
    "    except IndexError: pass\n",
    "\n",
    "''.join(letters)"
   ]
  }
 ],
 "metadata": {
  "kernelspec": {
   "display_name": "Python 3.9.0 ('images')",
   "language": "python",
   "name": "python3"
  },
  "language_info": {
   "codemirror_mode": {
    "name": "ipython",
    "version": 3
   },
   "file_extension": ".py",
   "mimetype": "text/x-python",
   "name": "python",
   "nbconvert_exporter": "python",
   "pygments_lexer": "ipython3",
   "version": "3.9.0"
  },
  "orig_nbformat": 4,
  "vscode": {
   "interpreter": {
    "hash": "a51bb68e7f0f0f5c5e0b9dc7337d5ac1fd68a33dfd9a9a9783ac8ec7277b13da"
   }
  }
 },
 "nbformat": 4,
 "nbformat_minor": 2
}
