{
 "cells": [
  {
   "cell_type": "code",
   "execution_count": null,
   "metadata": {},
   "outputs": [],
   "source": [
    "with open('day5.txt', 'r') as f:\n",
    "    my_input = [l.rstrip() for l in f.readlines()]\n",
    "\n",
    "stacks_raw = my_input[:9]\n",
    "movements = my_input[10:]"
   ]
  },
  {
   "cell_type": "code",
   "execution_count": null,
   "metadata": {},
   "outputs": [],
   "source": [
    "test_stacks = {\n",
    "    '1':['N','Z'],\n",
    "    '2':['D','C','M'],\n",
    "    '3':['P']\n",
    "}\n",
    "\n",
    "test_dirs = [\n",
    "    'move 1 from 2 to 1',\n",
    "    'move 3 from 1 to 3',\n",
    "    'move 2 from 2 to 1',\n",
    "    'move 1 from 1 to 2'\n",
    "]\n",
    "\n",
    "for k, v in test_stacks.items():\n",
    "    print(k,v)\n",
    "\n",
    "def move_crate(stacks: dict, move_from: str, move_to: str, num_moves: int) -> dict:\n",
    "    \"\"\"Moves a crate from one stack to another\"\"\"\n",
    "    for _ in range(num_moves):\n",
    "        val = stacks[move_from].pop(0)\n",
    "        stacks[move_to].insert(0, val)\n",
    "    return stacks\n",
    "\n",
    "for i in test_dirs[:4]:\n",
    "    splitted = i.split(' ')\n",
    "    num_moves = splitted[1]\n",
    "    move_from = splitted[3]\n",
    "    move_to = splitted[5]\n",
    "    test_stacks = move_crate(test_stacks, move_from, move_to, int(num_moves))\n",
    "\n",
    "print()\n",
    "\n",
    "for k, v in test_stacks.items():\n",
    "    print(k,v)\n",
    "\n",
    "test_dirs    "
   ]
  },
  {
   "cell_type": "code",
   "execution_count": null,
   "metadata": {},
   "outputs": [],
   "source": [
    "full_line = stacks_raw[-2]\n",
    "container_line = stacks_raw[-1]\n",
    "letter_indices = [\n",
    "    ind for ind, l \n",
    "    in enumerate(full_line)\n",
    "    if l.isalpha()\n",
    "]\n",
    "key_indices = [\n",
    "    ind for ind, l\n",
    "    in enumerate(container_line)\n",
    "    if l.isalnum()\n",
    "]\n",
    "print(letter_indices)\n",
    "print(key_indices)"
   ]
  },
  {
   "cell_type": "code",
   "execution_count": null,
   "metadata": {},
   "outputs": [],
   "source": [
    "stacks = {\n",
    "    container_line[key_index]: [\n",
    "        row[key_index]\n",
    "        for row in stacks_raw[:-1]\n",
    "        if row[key_index].isalpha()\n",
    "    ]\n",
    "    for key_index in key_indices\n",
    "}\n",
    "for k, v in stacks.items():\n",
    "    print(k, v)"
   ]
  },
  {
   "cell_type": "code",
   "execution_count": null,
   "metadata": {},
   "outputs": [],
   "source": [
    "movements[:5]"
   ]
  },
  {
   "cell_type": "code",
   "execution_count": null,
   "metadata": {},
   "outputs": [],
   "source": [
    "for i in movements[:4]:\n",
    "    splitted = i.split(' ')\n",
    "    num_moves = splitted[1]\n",
    "    move_from = splitted[3]\n",
    "    move_to = splitted[5]\n",
    "    stacks = move_crate(stacks, move_from, move_to, int(num_moves))"
   ]
  },
  {
   "cell_type": "code",
   "execution_count": null,
   "metadata": {},
   "outputs": [],
   "source": [
    "for k, v in stacks.items():\n",
    "    print(k, v)\n",
    "\n",
    "letters = []\n",
    "for v in stacks.values():\n",
    "    try:\n",
    "        letters.append((v[0]))\n",
    "    except IndexError: pass\n",
    "\n",
    "''.join(letters) # MMFDRCVD and TFMFBQTN (with or without space), SFMFBQVDM wrong"
   ]
  },
  {
   "cell_type": "code",
   "execution_count": null,
   "metadata": {},
   "outputs": [],
   "source": []
  }
 ],
 "metadata": {
  "kernelspec": {
   "display_name": "Python 3.8.15 ('seg')",
   "language": "python",
   "name": "python3"
  },
  "language_info": {
   "codemirror_mode": {
    "name": "ipython",
    "version": 3
   },
   "file_extension": ".py",
   "mimetype": "text/x-python",
   "name": "python",
   "nbconvert_exporter": "python",
   "pygments_lexer": "ipython3",
   "version": "3.8.15"
  },
  "orig_nbformat": 4,
  "vscode": {
   "interpreter": {
    "hash": "579ea288710c9362923cf7c8ea9438dbd6a74d17c48d5d7496664312baf9b240"
   }
  }
 },
 "nbformat": 4,
 "nbformat_minor": 2
}
