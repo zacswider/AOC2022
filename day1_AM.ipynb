{
 "cells": [
  {
   "cell_type": "code",
   "execution_count": 1,
   "metadata": {},
   "outputs": [],
   "source": [
    "with open(\"day1_input_AM.txt\") as f:\n",
    "    my_list = [line.rstrip() for line in f]"
   ]
  },
  {
   "cell_type": "code",
   "execution_count": 2,
   "metadata": {},
   "outputs": [],
   "source": [
    "total_list = [] #list for summed calories\n",
    "calories = 0 #start counter\n",
    "\n",
    "for line in my_list:\n",
    "    if line != \"\": #if the line is a number (ie not blank), add it to the growing calories list\n",
    "        number = int(line) \n",
    "        calories = calories + number\n",
    "    else: #if you hit an empty line, append the total to the calories list and reset counter\n",
    "        total_list.append(calories)\n",
    "        calories = 0"
   ]
  },
  {
   "cell_type": "code",
   "execution_count": 3,
   "metadata": {},
   "outputs": [
    {
     "name": "stdout",
     "output_type": "stream",
     "text": [
      "66616 132\n"
     ]
    }
   ],
   "source": [
    "max_calories = max(total_list) #find the highest calorie value\n",
    "elf_number = total_list.index(max_calories) #find the #elf associated\n",
    "\n",
    "print(max_calories, elf_number)"
   ]
  },
  {
   "cell_type": "code",
   "execution_count": 4,
   "metadata": {},
   "outputs": [],
   "source": [
    "total_list.sort(reverse = True) #sort the list from high to low"
   ]
  },
  {
   "cell_type": "code",
   "execution_count": 9,
   "metadata": {},
   "outputs": [
    {
     "name": "stdout",
     "output_type": "stream",
     "text": [
      "199172\n"
     ]
    }
   ],
   "source": [
    "top_calories = sum(total_list[0:3]) #sum the top 3 highest values\n",
    "print(top_calories)"
   ]
  }
 ],
 "metadata": {
  "kernelspec": {
   "display_name": "Python 3.9.12 ('base')",
   "language": "python",
   "name": "python3"
  },
  "language_info": {
   "codemirror_mode": {
    "name": "ipython",
    "version": 3
   },
   "file_extension": ".py",
   "mimetype": "text/x-python",
   "name": "python",
   "nbconvert_exporter": "python",
   "pygments_lexer": "ipython3",
   "version": "3.9.12"
  },
  "orig_nbformat": 4,
  "vscode": {
   "interpreter": {
    "hash": "008b8255ade682f29fc9e947ad9e1faf20dd98464455eb2bcfc03266de07defa"
   }
  }
 },
 "nbformat": 4,
 "nbformat_minor": 2
}
